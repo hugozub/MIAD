{
  "nbformat": 4,
  "nbformat_minor": 0,
  "metadata": {
    "colab": {
      "provenance": [],
      "authorship_tag": "ABX9TyM+cvD7bN+bf3rnEAQ81tDa",
      "include_colab_link": true
    },
    "kernelspec": {
      "name": "python3",
      "display_name": "Python 3"
    },
    "language_info": {
      "name": "python"
    }
  },
  "cells": [
    {
      "cell_type": "markdown",
      "metadata": {
        "id": "view-in-github",
        "colab_type": "text"
      },
      "source": [
        "<a href=\"https://colab.research.google.com/github/hugozub/MIAD/blob/main/Practica4_al263169.ipynb\" target=\"_parent\"><img src=\"https://colab.research.google.com/assets/colab-badge.svg\" alt=\"Open In Colab\"/></a>"
      ]
    },
    {
      "cell_type": "code",
      "execution_count": null,
      "metadata": {
        "id": "lf9xhQ3WReBN"
      },
      "outputs": [],
      "source": [
        "import numpy as np\n"
      ]
    },
    {
      "cell_type": "code",
      "source": [
        "# Se crean dos matrices de 3x3 con número aleatorios del 1 al 10\n",
        "matriz1 = np.random.randint(1, 11, size=(3, 3))\n",
        "matriz2 = np.random.randint(1, 11, size=(3, 3))\n",
        "print(f\"Matriz 1:\\n {matriz1}\\n\")\n",
        "print(f\"Matriz 1:\\n {matriz2}\")\n",
        "\n"
      ],
      "metadata": {
        "colab": {
          "base_uri": "https://localhost:8080/"
        },
        "id": "PcbxXVM8Rh60",
        "outputId": "e18cbc56-c8fa-44a5-fd4e-55e9d0c1bcb6"
      },
      "execution_count": null,
      "outputs": [
        {
          "output_type": "stream",
          "name": "stdout",
          "text": [
            "Matriz 1:\n",
            " [[2 1 3]\n",
            " [1 6 3]\n",
            " [9 2 5]]\n",
            "\n",
            "Matriz 1:\n",
            " [[2 6 7]\n",
            " [7 1 4]\n",
            " [7 5 4]]\n"
          ]
        }
      ]
    },
    {
      "cell_type": "code",
      "source": [
        "suma = matriz1 + matriz2\n",
        "print(f\"Suma matriz 1 + matriz 2: \\n{suma}\")"
      ],
      "metadata": {
        "colab": {
          "base_uri": "https://localhost:8080/"
        },
        "id": "8uELbd8wR3dR",
        "outputId": "90ead15d-1790-47a8-f13b-e1ed5cbef698"
      },
      "execution_count": null,
      "outputs": [
        {
          "output_type": "stream",
          "name": "stdout",
          "text": [
            "Suma matriz 1 + matriz 2: \n",
            "[[ 4  7 10]\n",
            " [ 8  7  7]\n",
            " [16  7  9]]\n"
          ]
        }
      ]
    },
    {
      "cell_type": "code",
      "source": [
        "resta = matriz1 - matriz2\n",
        "print(f\"Resta matriz 1 - matriz 2: \\n{resta}\")"
      ],
      "metadata": {
        "colab": {
          "base_uri": "https://localhost:8080/"
        },
        "id": "d-leDMHXSXy0",
        "outputId": "c64dc19f-362e-41e2-dc4d-9848de7e9626"
      },
      "execution_count": null,
      "outputs": [
        {
          "output_type": "stream",
          "name": "stdout",
          "text": [
            "resta matriz 1 - matriz 2: \n",
            "[[ 0 -5 -4]\n",
            " [-6  5 -1]\n",
            " [ 2 -3  1]]\n"
          ]
        }
      ]
    },
    {
      "cell_type": "code",
      "source": [
        "multiplicacion = matriz1 * 2\n",
        "print(f\"Multiplicación matriz 1 * matriz 2: \\n{multiplicacion}\")"
      ],
      "metadata": {
        "colab": {
          "base_uri": "https://localhost:8080/"
        },
        "id": "xESCtj1TSfjj",
        "outputId": "a062946a-6e9c-4f30-9bc3-1698e4fe1f9d"
      },
      "execution_count": null,
      "outputs": [
        {
          "output_type": "stream",
          "name": "stdout",
          "text": [
            "Multiplicación matriz 1 * matriz 2: \n",
            "[[ 4  2  6]\n",
            " [ 2 12  6]\n",
            " [18  4 10]]\n"
          ]
        }
      ]
    },
    {
      "cell_type": "code",
      "source": [
        "producto_matricial = np.dot(matriz1, matriz2)\n",
        "print(f\"Producto matricial de matriz 1 y matriz 2: \\n{multiplicacion}\")"
      ],
      "metadata": {
        "colab": {
          "base_uri": "https://localhost:8080/"
        },
        "id": "w3DRtLaBSjfN",
        "outputId": "0ad7b08c-cd70-45c1-d334-d62792cf9b98"
      },
      "execution_count": null,
      "outputs": [
        {
          "output_type": "stream",
          "name": "stdout",
          "text": [
            "Producto matricial de matriz 1 y matriz 2: \n",
            "[[ 4  2  6]\n",
            " [ 2 12  6]\n",
            " [18  4 10]]\n"
          ]
        }
      ]
    },
    {
      "cell_type": "code",
      "source": [],
      "metadata": {
        "id": "hiwxOhdNS11L"
      },
      "execution_count": null,
      "outputs": []
    }
  ]
}