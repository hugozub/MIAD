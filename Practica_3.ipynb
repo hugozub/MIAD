{
  "nbformat": 4,
  "nbformat_minor": 0,
  "metadata": {
    "colab": {
      "provenance": [],
      "authorship_tag": "ABX9TyNnHTMgutm7B9Yf1K0QpRoc",
      "include_colab_link": true
    },
    "kernelspec": {
      "name": "python3",
      "display_name": "Python 3"
    },
    "language_info": {
      "name": "python"
    }
  },
  "cells": [
    {
      "cell_type": "markdown",
      "metadata": {
        "id": "view-in-github",
        "colab_type": "text"
      },
      "source": [
        "<a href=\"https://colab.research.google.com/github/hugozub/MIAD/blob/main/Practica_3.ipynb\" target=\"_parent\"><img src=\"https://colab.research.google.com/assets/colab-badge.svg\" alt=\"Open In Colab\"/></a>"
      ]
    },
    {
      "cell_type": "code",
      "execution_count": null,
      "metadata": {
        "id": "3n8XzZTUPpPh"
      },
      "outputs": [],
      "source": [
        "import numpy as np"
      ]
    },
    {
      "cell_type": "code",
      "source": [
        "# Se hace un arreglo unidimencinoal con 20 valores aleatorios entre 1 y 100\n",
        "veinte = np.random.randint(1,101,20)\n",
        "print(f\"Arreglo: {veinte}\")\n"
      ],
      "metadata": {
        "colab": {
          "base_uri": "https://localhost:8080/"
        },
        "id": "PUq79t4xPr95",
        "outputId": "fa044c82-2fc2-44f9-b6da-fcb81cd5f713"
      },
      "execution_count": null,
      "outputs": [
        {
          "output_type": "stream",
          "name": "stdout",
          "text": [
            "Arreglo: [93 43 94 58 64 46 17 91 27 64 83 23 32 62 90 17  6 52 30 14]\n"
          ]
        }
      ]
    },
    {
      "cell_type": "code",
      "source": [
        "print(f\"El maximo es: {veinte.max()}\")"
      ],
      "metadata": {
        "colab": {
          "base_uri": "https://localhost:8080/"
        },
        "id": "CtdhHAgtP4HE",
        "outputId": "de723944-2781-4f03-9e73-9cdc9dfae5e9"
      },
      "execution_count": null,
      "outputs": [
        {
          "output_type": "stream",
          "name": "stdout",
          "text": [
            "El maximo es: 94\n"
          ]
        }
      ]
    },
    {
      "cell_type": "code",
      "source": [
        "print(f\"El mínimo es: {veinte.min()}\")"
      ],
      "metadata": {
        "colab": {
          "base_uri": "https://localhost:8080/"
        },
        "id": "6CJhGIeAQC_n",
        "outputId": "36224e92-f70b-4141-d2b5-0b2ab91c97bc"
      },
      "execution_count": null,
      "outputs": [
        {
          "output_type": "stream",
          "name": "stdout",
          "text": [
            "El mínimo es: 6\n"
          ]
        }
      ]
    },
    {
      "cell_type": "code",
      "source": [
        "print(f\"La media es: {veinte.mean()}\")"
      ],
      "metadata": {
        "colab": {
          "base_uri": "https://localhost:8080/"
        },
        "id": "O0rSZucAQHlx",
        "outputId": "ebee252f-7d3a-4a6a-9406-d09759652030"
      },
      "execution_count": null,
      "outputs": [
        {
          "output_type": "stream",
          "name": "stdout",
          "text": [
            "La media es: 50.3\n"
          ]
        }
      ]
    },
    {
      "cell_type": "code",
      "source": [
        "#Se suma 10 unidades a cada valor del arreglo\n",
        "print(veinte +10)"
      ],
      "metadata": {
        "colab": {
          "base_uri": "https://localhost:8080/"
        },
        "id": "dk6jb0LOQLRc",
        "outputId": "ab43621a-6a2a-4c7f-c1ab-266307678155"
      },
      "execution_count": null,
      "outputs": [
        {
          "output_type": "stream",
          "name": "stdout",
          "text": [
            "[103  53 104  68  74  56  27 101  37  74  93  33  42  72 100  27  16  62\n",
            "  40  24]\n"
          ]
        }
      ]
    },
    {
      "cell_type": "code",
      "source": [],
      "metadata": {
        "id": "-9t0DfrjQq_S"
      },
      "execution_count": null,
      "outputs": []
    }
  ]
}