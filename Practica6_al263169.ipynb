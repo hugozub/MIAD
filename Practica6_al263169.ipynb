{
  "nbformat": 4,
  "nbformat_minor": 0,
  "metadata": {
    "colab": {
      "provenance": [],
      "authorship_tag": "ABX9TyN3tP8xYCj2+Z5eYpv+Qsnl",
      "include_colab_link": true
    },
    "kernelspec": {
      "name": "python3",
      "display_name": "Python 3"
    },
    "language_info": {
      "name": "python"
    }
  },
  "cells": [
    {
      "cell_type": "markdown",
      "metadata": {
        "id": "view-in-github",
        "colab_type": "text"
      },
      "source": [
        "<a href=\"https://colab.research.google.com/github/hugozub/MIAD/blob/main/Practica6_al263169.ipynb\" target=\"_parent\"><img src=\"https://colab.research.google.com/assets/colab-badge.svg\" alt=\"Open In Colab\"/></a>"
      ]
    },
    {
      "cell_type": "code",
      "execution_count": null,
      "metadata": {
        "colab": {
          "base_uri": "https://localhost:8080/"
        },
        "id": "NFzTEWuIuvAI",
        "outputId": "51ecc872-7f24-4daf-b34a-833f4f05f299"
      },
      "outputs": [
        {
          "output_type": "stream",
          "name": "stdout",
          "text": [
            "Mounted at /content/drive\n"
          ]
        }
      ],
      "source": [
        "from google.colab import drive\n",
        "drive.mount('/content/drive')"
      ]
    },
    {
      "cell_type": "code",
      "source": [
        "import pandas as pd\n",
        "df = pd.read_csv('/content/drive/MyDrive/MIAD/Programación para analítica descriptiva y predictiva/Practica 5/Titanic-Dataset.csv')\n",
        "print(df.columns)\n",
        "print(df.shape)\n",
        "print(df.head(5))"
      ],
      "metadata": {
        "colab": {
          "base_uri": "https://localhost:8080/"
        },
        "id": "AUZfLCpwvZV_",
        "outputId": "b7a4f727-3bd9-46e8-c7aa-a11715e79a3d"
      },
      "execution_count": null,
      "outputs": [
        {
          "output_type": "stream",
          "name": "stdout",
          "text": [
            "Index(['PassengerId', 'Survived', 'Pclass', 'Name', 'Sex', 'Age', 'SibSp',\n",
            "       'Parch', 'Ticket', 'Fare', 'Cabin', 'Embarked'],\n",
            "      dtype='object')\n",
            "(891, 12)\n",
            "   PassengerId  Survived  Pclass  \\\n",
            "0            1         0       3   \n",
            "1            2         1       1   \n",
            "2            3         1       3   \n",
            "3            4         1       1   \n",
            "4            5         0       3   \n",
            "\n",
            "                                                Name     Sex   Age  SibSp  \\\n",
            "0                            Braund, Mr. Owen Harris    male  22.0      1   \n",
            "1  Cumings, Mrs. John Bradley (Florence Briggs Th...  female  38.0      1   \n",
            "2                             Heikkinen, Miss. Laina  female  26.0      0   \n",
            "3       Futrelle, Mrs. Jacques Heath (Lily May Peel)  female  35.0      1   \n",
            "4                           Allen, Mr. William Henry    male  35.0      0   \n",
            "\n",
            "   Parch            Ticket     Fare Cabin Embarked  \n",
            "0      0         A/5 21171   7.2500   NaN        S  \n",
            "1      0          PC 17599  71.2833   C85        C  \n",
            "2      0  STON/O2. 3101282   7.9250   NaN        S  \n",
            "3      0            113803  53.1000  C123        S  \n",
            "4      0            373450   8.0500   NaN        S  \n"
          ]
        }
      ]
    },
    {
      "cell_type": "markdown",
      "source": [
        "# **Ejercicio #1**\n",
        "\n",
        "\n",
        "*   Calcula la proporción de supervivencia para cada combinación de 'Sex' y 'Pclass'.\n",
        "*    Identifica qué combinación tuvo la tasa de supervivencia más alta.\n",
        "*   Identifica qué combinación tuvo la tasa de supervivencia más baja.\n",
        "\n",
        "\n",
        "\n",
        "\n"
      ],
      "metadata": {
        "id": "4wB0u6HdxQgi"
      }
    },
    {
      "cell_type": "code",
      "source": [
        "# Se agrupa Pclass y Sex para sacar la media de Survived según se haya agrupado\n",
        "# Se agrega indice para el siguiente paso\n",
        "rate_supervivencia = df.groupby(['Sex', 'Pclass'])['Survived'].mean().reset_index()\n",
        "print(rate_supervivencia)\n",
        "print(type(rate_supervivencia))"
      ],
      "metadata": {
        "colab": {
          "base_uri": "https://localhost:8080/"
        },
        "id": "c9mriBnCv2CB",
        "outputId": "3c9acb0d-c89a-4028-92f8-50fad955933d"
      },
      "execution_count": null,
      "outputs": [
        {
          "output_type": "stream",
          "name": "stdout",
          "text": [
            "Sex     Pclass\n",
            "female  1         0.968085\n",
            "        2         0.921053\n",
            "        3         0.500000\n",
            "male    1         0.368852\n",
            "        2         0.157407\n",
            "        3         0.135447\n",
            "Name: Survived, dtype: float64\n",
            "<class 'pandas.core.series.Series'>\n"
          ]
        }
      ]
    },
    {
      "cell_type": "code",
      "source": [
        "# Se ordena de mayor a menor la columna Survived\n",
        "# Se imprime el primer elemento de orden_rate_mayor, siendo éste la convinación de mayor valor\n",
        "orden_rate_mayor = rate_supervivencia.sort_values(\"Survived\", ascending=False)\n",
        "print(orden_rate_mayor.iloc[0])"
      ],
      "metadata": {
        "colab": {
          "base_uri": "https://localhost:8080/"
        },
        "id": "izyuOUnd08Qm",
        "outputId": "237067de-7c92-4b49-8614-6b5978004468"
      },
      "execution_count": null,
      "outputs": [
        {
          "output_type": "stream",
          "name": "stdout",
          "text": [
            "Sex           female\n",
            "Pclass             1\n",
            "Survived    0.968085\n",
            "Name: 0, dtype: object\n"
          ]
        }
      ]
    },
    {
      "cell_type": "code",
      "source": [
        "# Se ordena de menor a mayir la columna Survived\n",
        "# Se imprime el primer elemento de orden_rate_menor, siendo éste la convinación de menor valor\n",
        "ordes_rate_menor = rate_supervivencia.sort_values(\"Survived\", ascending=True)\n",
        "print(ordes_rate_menor.iloc[0])"
      ],
      "metadata": {
        "colab": {
          "base_uri": "https://localhost:8080/"
        },
        "id": "2bbFM5LJ16rC",
        "outputId": "589fd769-ee24-4bd3-a178-faf607acf071"
      },
      "execution_count": null,
      "outputs": [
        {
          "output_type": "stream",
          "name": "stdout",
          "text": [
            "Sex             male\n",
            "Pclass             3\n",
            "Survived    0.135447\n",
            "Name: 5, dtype: object\n"
          ]
        }
      ]
    },
    {
      "cell_type": "markdown",
      "source": [
        "# **#Ejercicio 2**\n",
        "\n",
        "\n",
        "\n",
        "\n",
        "*   Crea una nueva columna 'FamilySize' sumando las columnas 'SibSp' y 'Parch'.\n",
        "*   Considera como \"familia grande\" a aquellas donde 'FamilySize' es mayor a 3.\n",
        "*   Calcula el número de pasajeros en familias grandes.\n",
        "*   Calcula la proporción de supervivencia entre los pasajeros que pertenecen a familias grandes.\n",
        "\n",
        "\n"
      ],
      "metadata": {
        "id": "2lL_bHRD399A"
      }
    },
    {
      "cell_type": "code",
      "source": [
        "# Se crea columna Family Size\n",
        "df['FamilySize'] = df['SibSp'] + df['Parch']\n",
        "print(df[\"FamilySize\"])"
      ],
      "metadata": {
        "colab": {
          "base_uri": "https://localhost:8080/"
        },
        "id": "PJTpJoL44Rnw",
        "outputId": "69b9833e-0e08-4c56-f7da-2183b5108872"
      },
      "execution_count": null,
      "outputs": [
        {
          "output_type": "stream",
          "name": "stdout",
          "text": [
            "0      1\n",
            "1      1\n",
            "2      0\n",
            "3      1\n",
            "4      0\n",
            "      ..\n",
            "886    0\n",
            "887    0\n",
            "888    3\n",
            "889    0\n",
            "890    0\n",
            "Name: FamilySize, Length: 891, dtype: int64\n"
          ]
        }
      ]
    },
    {
      "cell_type": "code",
      "source": [
        "# Se considera una familia grande cuando FamilySize es mayor a 3\n",
        "df[\"FamSizeBig\"] = df[\"FamilySize\"] >3\n",
        "print(df[\"FamSizeBig\"])"
      ],
      "metadata": {
        "colab": {
          "base_uri": "https://localhost:8080/"
        },
        "id": "UR6NknbK5m2Z",
        "outputId": "c90f501c-1b69-4f8c-d003-98d167e87de1"
      },
      "execution_count": null,
      "outputs": [
        {
          "output_type": "stream",
          "name": "stdout",
          "text": [
            "0      False\n",
            "1      False\n",
            "2      False\n",
            "3      False\n",
            "4      False\n",
            "       ...  \n",
            "886    False\n",
            "887    False\n",
            "888    False\n",
            "889    False\n",
            "890    False\n",
            "Name: FamSizeBig, Length: 891, dtype: bool\n"
          ]
        }
      ]
    },
    {
      "cell_type": "code",
      "source": [
        "# Se filtra el df para solo mostrar las familias grandes, despues se hace la suma total de pasajeros.\n",
        "df_FamSizeBig = df[df[\"FamSizeBig\"] == True]\n",
        "print(f\"Total de pasajeros que pertenecen a una familia Grande: {df_FamSizeBig[\"FamilySize\"].sum()}\")"
      ],
      "metadata": {
        "colab": {
          "base_uri": "https://localhost:8080/"
        },
        "id": "0o5c56PL6mmg",
        "outputId": "d3881d3c-1ded-4145-893c-b1e5e6cdafe0"
      },
      "execution_count": null,
      "outputs": [
        {
          "output_type": "stream",
          "name": "stdout",
          "text": [
            "Total de pasajeros que pertenecen a una familia Grande: 354\n"
          ]
        }
      ]
    },
    {
      "cell_type": "code",
      "source": [
        "# Se hace lo mismo que el paso uno pero para df_FamSizeBig que corresponde a las familias Grandes\n",
        "rate_supervivencia_famBig = df_FamSizeBig.groupby(['Sex', 'Pclass'])['Survived'].mean().reset_index()\n",
        "print(rate_supervivencia_famBig)\n",
        "print(type(rate_supervivencia_famBig))"
      ],
      "metadata": {
        "colab": {
          "base_uri": "https://localhost:8080/"
        },
        "id": "2ns40pPD7O02",
        "outputId": "2380bf92-81c8-4974-ff26-1cfe39b68766"
      },
      "execution_count": null,
      "outputs": [
        {
          "output_type": "stream",
          "name": "stdout",
          "text": [
            "      Sex  Pclass  Survived\n",
            "0  female       1  1.000000\n",
            "1  female       2  1.000000\n",
            "2  female       3  0.111111\n",
            "3    male       1  0.000000\n",
            "4    male       3  0.037037\n",
            "<class 'pandas.core.frame.DataFrame'>\n"
          ]
        }
      ]
    },
    {
      "cell_type": "code",
      "source": [],
      "metadata": {
        "id": "wbDcl2NH8AFo"
      },
      "execution_count": null,
      "outputs": []
    }
  ]
}