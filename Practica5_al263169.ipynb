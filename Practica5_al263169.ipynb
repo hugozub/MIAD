{
  "nbformat": 4,
  "nbformat_minor": 0,
  "metadata": {
    "colab": {
      "provenance": [],
      "authorship_tag": "ABX9TyMogNkDdhrY0sMCON6c+wlT",
      "include_colab_link": true
    },
    "kernelspec": {
      "name": "python3",
      "display_name": "Python 3"
    },
    "language_info": {
      "name": "python"
    }
  },
  "cells": [
    {
      "cell_type": "markdown",
      "metadata": {
        "id": "view-in-github",
        "colab_type": "text"
      },
      "source": [
        "<a href=\"https://colab.research.google.com/github/hugozub/MIAD/blob/main/Practica5_al263169.ipynb\" target=\"_parent\"><img src=\"https://colab.research.google.com/assets/colab-badge.svg\" alt=\"Open In Colab\"/></a>"
      ]
    },
    {
      "cell_type": "code",
      "execution_count": null,
      "metadata": {
        "id": "ysLyRKv8r1Ax"
      },
      "outputs": [],
      "source": [
        "import numpy as np\n"
      ]
    },
    {
      "cell_type": "code",
      "source": [
        "# Se hace arreglo con número aleatorios del 0 al 50 unidimensional de longitud 15\n",
        "arreglo = np.random.randint(0,51,15)\n",
        "print(arreglo)"
      ],
      "metadata": {
        "colab": {
          "base_uri": "https://localhost:8080/"
        },
        "id": "pnDt1UVQr4dB",
        "outputId": "ab53c114-7bda-4794-f074-320cda5e4751"
      },
      "execution_count": null,
      "outputs": [
        {
          "output_type": "stream",
          "name": "stdout",
          "text": [
            "[21 49 40 22 16  8  7 34 25 31 19 47 39 13 28]\n"
          ]
        }
      ]
    },
    {
      "cell_type": "code",
      "source": [
        "print(f\"Arreglo booleano con números mayores a 25: {arreglo >25}\")"
      ],
      "metadata": {
        "colab": {
          "base_uri": "https://localhost:8080/"
        },
        "id": "q_Dq3YzUsSc_",
        "outputId": "db6be8a2-34ec-4612-c121-33de5ea509f8"
      },
      "execution_count": null,
      "outputs": [
        {
          "output_type": "stream",
          "name": "stdout",
          "text": [
            "Mayores a 25: [False  True  True False False False False  True False  True False  True\n",
            "  True False  True]\n"
          ]
        }
      ]
    },
    {
      "cell_type": "code",
      "source": [
        "#Contar números mayores a 25\n",
        "# Ciclo for para contar del resultado booleando \"arreglo>25\" cuantos son True, se cuento cuales cumplen con esta condición\n",
        "contador = 0\n",
        "mayor25 = arreglo>25\n",
        "for i in mayor25:\n",
        "    if i == True:\n",
        "        contador += 1\n",
        "print(f\"Cantidad de números mayores a 25: {contador}\")"
      ],
      "metadata": {
        "colab": {
          "base_uri": "https://localhost:8080/"
        },
        "id": "8-s125kAs6it",
        "outputId": "a0f4f562-ee56-4d8e-b868-b3aa7efe8476"
      },
      "execution_count": null,
      "outputs": [
        {
          "output_type": "stream",
          "name": "stdout",
          "text": [
            "Cantidad de números mayores a 25: 7\n"
          ]
        }
      ]
    },
    {
      "cell_type": "code",
      "source": [],
      "metadata": {
        "id": "8DQ0T-BItMAe"
      },
      "execution_count": null,
      "outputs": []
    }
  ]
}